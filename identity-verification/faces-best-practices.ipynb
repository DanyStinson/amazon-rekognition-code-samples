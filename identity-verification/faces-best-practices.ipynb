{
 "cells": [
  {
   "cell_type": "markdown",
   "id": "12c4dac1",
   "metadata": {},
   "source": [
    "# Best Practices to capture faces"
   ]
  },
  {
   "cell_type": "markdown",
   "id": "9de49222",
   "metadata": {},
   "source": [
    "The models used for face comparison operations are designed to work for a wide variety of poses, facial expressions, age ranges, rotations, lighting conditions, and sizes. We recommend that you use the following guidelines when choosing reference photos for CompareFaces or for adding faces to a collection using IndexFaces.\n",
    "\n",
    "Use an image with a face that is within the recommended range of angles. The pitch should be less than 30 degrees face down and less than 45 degrees face up. The yaw should be less than 45 degrees in either direction. There is no restriction on the roll.\n",
    "\n",
    "Use an image of a face with both eyes open and visible.\n",
    "\n",
    "When creating a collection using IndexFaces, use multiple face images of an individual with different pitches and yaws (within the recommended range of angles). We recommend that at least five images of the person are indexed—straight on, face turned left with a yaw of 45 degrees or less, face turned right with a yaw of 45 degrees or less, face tilted down with a pitch of 30 degrees or less, and face tilted up with a pitch of 45 degrees or less. If you want to track that these face instances belong to the same individual, consider using the external image ID attribute if there is only one face in the image being indexed. For example, five images of John Doe can be tracked in the collection with external image IDs as John_Doe_1.jpg, … John_Doe_5.jpg.\n",
    "\n",
    "Use an image of a face that is not obscured or tightly cropped. The image should contain the full head and shoulders of the person. It should not be cropped to the face bounding box.\n",
    "\n",
    "Avoid items that block the face, such as headbands and masks.\n",
    "\n",
    "Ensure face size is greater than 50x50 pixels\n",
    "\n",
    "Use color images.\n",
    "\n",
    "Use images with flat lighting on the face, as opposed to varied lighting such as shadows.\n",
    "\n",
    "Use images that have sufficient contrast with the background. A high-contrast monochrome background works well.\n",
    "\n",
    "Use images of faces with neutral facial expressions with mouth closed and little to no smile for applications that require high precision.\n",
    "\n",
    "Use images that are bright and sharp. Avoid using images that may be blurry due to subject and camera motion as much as possible. DetectFaces can be used to determine the brightness and sharpness of a face."
   ]
  },
  {
   "cell_type": "markdown",
   "id": "664cddda",
   "metadata": {},
   "source": [
    "### To ensure high quality face images, it is recommended to run the following image_check and contrast check functions  before storing the faces to S3 or Rekognition collections."
   ]
  },
  {
   "cell_type": "code",
   "execution_count": 41,
   "id": "9b67b99d",
   "metadata": {},
   "outputs": [],
   "source": [
    "import boto3\n",
    "import json\n",
    "from IPython.display import Image as IImage\n",
    "from PIL import Image\n",
    "from skimage.exposure import is_low_contrast\n",
    "import cv2"
   ]
  },
  {
   "cell_type": "code",
   "execution_count": 42,
   "id": "50293ecd",
   "metadata": {},
   "outputs": [],
   "source": [
    "client=boto3.client('rekognition')"
   ]
  },
  {
   "cell_type": "code",
   "execution_count": 43,
   "id": "9235d5fd",
   "metadata": {},
   "outputs": [],
   "source": [
    "def image_check (photo):\n",
    "    \n",
    "    with open(photo, 'rb') as image:\n",
    "        response = client.detect_faces(Image={'Bytes': image.read()},Attributes=['ALL'])\n",
    "    \n",
    "    \n",
    "    # get image details\n",
    "    image = Image.open(photo)\n",
    "    imgWidth, imgHeight = image.size \n",
    "    faceDetail = response['FaceDetails'][0]\n",
    "    pitch = faceDetail['Pose']['Pitch']\n",
    "    yaw = faceDetail['Pose']['Yaw']\n",
    "    sunglasses = faceDetail['Sunglasses']['Value']\n",
    "    box = faceDetail['BoundingBox']\n",
    "    width = imgWidth * box['Width']\n",
    "    height = imgHeight * box['Height']\n",
    "    eyesOpen = faceDetail['EyesOpen']['Value']\n",
    "    emotion = faceDetail['Emotions'][0]['Type']\n",
    "    emotionConfidence = faceDetail['Emotions'][0]['Confidence']\n",
    "    mouthOpen = faceDetail['MouthOpen']['Value']\n",
    "    image_results = \"\"\n",
    "    \n",
    "    # image compliance checks\n",
    "    if (width < 50) or (height < 50):\n",
    "        image_results += f'Face dimensions should be > 50x50 pixels. They are {width:.1f} x {height:.1f}\\n'\n",
    "        \n",
    "    if (abs(yaw) > 45):\n",
    "        image_results += f'Yaw (side face rotation) should be less than 45 degrees. It is {abs(yaw)} \\n'\n",
    "        \n",
    "    if ((pitch > 45)):\n",
    "        image_results += f'Pitch (looking up) should be less than 45 degrees. It is {pitch} \\n'\n",
    "        \n",
    "    if ((pitch < -30)):\n",
    "        image_results += f'Pitch (looking down) should be less than 30 degrees. It is {pitch} \\n'\n",
    "               \n",
    "    if not eyesOpen:\n",
    "        image_results += f'Eyes are not open \\n'\n",
    "    \n",
    "    if sunglasses:\n",
    "        image_results += f'remove sunglasses \\n'\n",
    "    \n",
    "    if (mouthOpen):\n",
    "        image_results += f'Mouth should be closed \\n'\n",
    "\n",
    "    # image is compliant if nothing was added to image results\n",
    "    if (not image_results):\n",
    "        image_results = \"Image is compliant\"\n",
    "        \n",
    "        \n",
    "    return image_results\n",
    "        "
   ]
  },
  {
   "cell_type": "code",
   "execution_count": 44,
   "id": "9012ba8a",
   "metadata": {},
   "outputs": [],
   "source": [
    "def low_contrast_check (photo):\n",
    "    image = cv2.imread(photo)\n",
    "    gray = cv2.cvtColor(image, cv2.COLOR_BGR2GRAY)\n",
    "    return is_low_contrast(gray, fraction_threshold=0.35)"
   ]
  },
  {
   "cell_type": "markdown",
   "id": "511db2e3",
   "metadata": {},
   "source": [
    "## Examples of acceptable face profile"
   ]
  },
  {
   "cell_type": "markdown",
   "id": "520e6913",
   "metadata": {},
   "source": [
    "###  Capture 5 images at different face angles"
   ]
  },
  {
   "cell_type": "markdown",
   "id": "59b1286a",
   "metadata": {},
   "source": [
    "### Front view with head and shoulder -"
   ]
  },
  {
   "cell_type": "code",
   "execution_count": 52,
   "id": "720a5137",
   "metadata": {},
   "outputs": [],
   "source": [
    "path = './media/'"
   ]
  },
  {
   "cell_type": "code",
   "execution_count": 53,
   "id": "a57e7cf4",
   "metadata": {},
   "outputs": [
    {
     "data": {
      "image/jpeg": "[encoded data removed]",
      "text/plain": [
       "<IPython.core.display.Image object>"
      ]
     },
     "execution_count": 53,
     "metadata": {},
     "output_type": "execute_result"
    }
   ],
   "source": [
    "photo = path + 'bezos-frontface-shoulder-02.jpeg'\n",
    "IImage(filename=photo)"
   ]
  },
  {
   "cell_type": "code",
   "execution_count": 54,
   "id": "8614be1a",
   "metadata": {},
   "outputs": [
    {
     "name": "stdout",
     "output_type": "stream",
     "text": [
      "Image is compliant\n",
      "Image has Good contrast\n"
     ]
    }
   ],
   "source": [
    "print(image_check(photo))\n",
    "result = 'Good contrast' if not low_contrast_check (photo) else 'Low contrast'\n",
    "print(f'Image has {result}')"
   ]
  },
  {
   "cell_type": "markdown",
   "id": "10e5d4bf",
   "metadata": {},
   "source": [
    "### Right side face profile with head and shoulder"
   ]
  },
  {
   "cell_type": "code",
   "execution_count": 55,
   "id": "5ca62234",
   "metadata": {},
   "outputs": [
    {
     "data": {
      "image/jpeg": "[encoded data removed]",
      "text/plain": [
       "<IPython.core.display.Image object>"
      ]
     },
     "execution_count": 55,
     "metadata": {},
     "output_type": "execute_result"
    }
   ],
   "source": [
    "photo = path + 'obama-sideface-left.jpeg'\n",
    "IImage(filename=photo) \n"
   ]
  },
  {
   "cell_type": "code",
   "execution_count": 56,
   "id": "da80489b",
   "metadata": {},
   "outputs": [
    {
     "name": "stdout",
     "output_type": "stream",
     "text": [
      "Image is compliant\n",
      "Image has Good contrast\n"
     ]
    }
   ],
   "source": [
    "print(image_check(photo))\n",
    "result = 'Good contrast' if not low_contrast_check (photo) else 'Low contrast'\n",
    "print(f'Image has {result}')"
   ]
  },
  {
   "cell_type": "markdown",
   "id": "14a15da4",
   "metadata": {},
   "source": [
    "### Left side face profile with head and shoulder"
   ]
  },
  {
   "cell_type": "code",
   "execution_count": 57,
   "id": "0e9a5e92",
   "metadata": {},
   "outputs": [
    {
     "data": {
      "image/jpeg": "[encoded data removed]",
      "text/plain": [
       "<IPython.core.display.Image object>"
      ]
     },
     "execution_count": 57,
     "metadata": {},
     "output_type": "execute_result"
    }
   ],
   "source": [
    "photo = path + 'obama-sideface-right.jpeg'\n",
    "IImage(filename=photo)"
   ]
  },
  {
   "cell_type": "code",
   "execution_count": 58,
   "id": "3e4c239a",
   "metadata": {},
   "outputs": [
    {
     "name": "stdout",
     "output_type": "stream",
     "text": [
      "Image is compliant\n",
      "Image has Good contrast\n"
     ]
    }
   ],
   "source": [
    "print(image_check(photo))\n",
    "result = 'Good contrast' if not low_contrast_check (photo) else 'Low contrast'\n",
    "print(f'Image has {result}')"
   ]
  },
  {
   "cell_type": "markdown",
   "id": "4c579192",
   "metadata": {},
   "source": [
    "### Face turned up slightly with head and shoulder"
   ]
  },
  {
   "cell_type": "code",
   "execution_count": 59,
   "id": "21822b99",
   "metadata": {},
   "outputs": [
    {
     "data": {
      "image/jpeg": "[encoded data removed]",
      "text/plain": [
       "<IPython.core.display.Image object>"
      ]
     },
     "execution_count": 59,
     "metadata": {},
     "output_type": "execute_result"
    }
   ],
   "source": [
    "photo = path + 'obama-looking-up.jpeg'\n",
    "IImage(filename=photo)"
   ]
  },
  {
   "cell_type": "code",
   "execution_count": 60,
   "id": "0b496578",
   "metadata": {},
   "outputs": [
    {
     "name": "stdout",
     "output_type": "stream",
     "text": [
      "Image is compliant\n",
      "Image has Good contrast\n"
     ]
    }
   ],
   "source": [
    "print(image_check(photo))\n",
    "result = 'Good contrast' if not low_contrast_check (photo) else 'Low contrast'\n",
    "print(f'Image has {result}')"
   ]
  },
  {
   "cell_type": "markdown",
   "id": "af9e6d0b",
   "metadata": {},
   "source": [
    "### Face turned down slightly with head and shoulder"
   ]
  },
  {
   "cell_type": "code",
   "execution_count": 61,
   "id": "e39f8144",
   "metadata": {},
   "outputs": [
    {
     "data": {
      "image/jpeg": "[encoded data removed]",
      "text/plain": [
       "<IPython.core.display.Image object>"
      ]
     },
     "execution_count": 61,
     "metadata": {},
     "output_type": "execute_result"
    }
   ],
   "source": [
    "photo = path + 'obama-lookingdown.jpeg'\n",
    "IImage(filename=photo)"
   ]
  },
  {
   "cell_type": "code",
   "execution_count": 62,
   "id": "b14bce51",
   "metadata": {},
   "outputs": [
    {
     "name": "stdout",
     "output_type": "stream",
     "text": [
      "Face dimensions should be > 50x50 pixels. They are 31.6 x 37.7\n",
      "Pitch (looking down) should be less than 30 degrees. It is -42.58332443237305 \n",
      "\n",
      "Image has Good contrast\n"
     ]
    }
   ],
   "source": [
    "print(image_check(photo))\n",
    "result = 'Good contrast' if not low_contrast_check (photo) else 'Low contrast'\n",
    "print(f'Image has {result}')"
   ]
  },
  {
   "cell_type": "markdown",
   "id": "49ed7c00",
   "metadata": {},
   "source": [
    "## Examples of unacceptable face profile - Examples with high yaw and pitch"
   ]
  },
  {
   "cell_type": "code",
   "execution_count": 63,
   "id": "e6a3932d",
   "metadata": {},
   "outputs": [],
   "source": [
    "photo = path + 'bezos-faceextremeleft.jpeg'"
   ]
  },
  {
   "cell_type": "code",
   "execution_count": 64,
   "id": "d719bbfe",
   "metadata": {
    "scrolled": true
   },
   "outputs": [
    {
     "data": {
      "image/jpeg": "[encoded data removed]",
      "text/plain": [
       "<IPython.core.display.Image object>"
      ]
     },
     "execution_count": 64,
     "metadata": {},
     "output_type": "execute_result"
    }
   ],
   "source": [
    "IImage(filename=photo) "
   ]
  },
  {
   "cell_type": "code",
   "execution_count": 65,
   "id": "4e22fd96",
   "metadata": {},
   "outputs": [
    {
     "name": "stdout",
     "output_type": "stream",
     "text": [
      "Yaw (side face rotation) should be less than 45 degrees. It is 49.14448928833008 \n",
      "Mouth should be closed \n",
      "\n",
      "Image has Good contrast\n"
     ]
    }
   ],
   "source": [
    "print(image_check(photo))\n",
    "result = 'Good contrast' if not low_contrast_check (photo) else 'Low contrast'\n",
    "print(f'Image has {result}')\n"
   ]
  },
  {
   "cell_type": "code",
   "execution_count": 66,
   "id": "9e73e4be",
   "metadata": {},
   "outputs": [],
   "source": [
    "photo = path + 'bezos-faceextremeright.jpeg'"
   ]
  },
  {
   "cell_type": "code",
   "execution_count": 67,
   "id": "a65923fc",
   "metadata": {},
   "outputs": [
    {
     "data": {
      "image/jpeg": "[encoded data removed]",
      "text/plain": [
       "<IPython.core.display.Image object>"
      ]
     },
     "execution_count": 67,
     "metadata": {},
     "output_type": "execute_result"
    }
   ],
   "source": [
    "IImage(filename=photo)"
   ]
  },
  {
   "cell_type": "code",
   "execution_count": 68,
   "id": "e8f574d1",
   "metadata": {},
   "outputs": [
    {
     "name": "stdout",
     "output_type": "stream",
     "text": [
      "Face dimensions should be > 50x50 pixels. They are 45.1 x 63.1\n",
      "Yaw (side face rotation) should be less than 45 degrees. It is 58.88406753540039 \n",
      "\n",
      "Image has Good contrast\n"
     ]
    }
   ],
   "source": [
    "print(image_check(photo))\n",
    "result = 'Good contrast' if not low_contrast_check (photo) else 'Low contrast'\n",
    "print(f'Image has {result}')\n"
   ]
  },
  {
   "cell_type": "code",
   "execution_count": 69,
   "id": "3518bd27",
   "metadata": {},
   "outputs": [
    {
     "data": {
      "image/jpeg": "[encoded data removed]",
      "text/plain": [
       "<IPython.core.display.Image object>"
      ]
     },
     "execution_count": 69,
     "metadata": {},
     "output_type": "execute_result"
    }
   ],
   "source": [
    "photo = path + 'obama-lookingup.jpeg'\n",
    "IImage(filename=photo) "
   ]
  },
  {
   "cell_type": "code",
   "execution_count": 70,
   "id": "53f280d7",
   "metadata": {},
   "outputs": [
    {
     "name": "stdout",
     "output_type": "stream",
     "text": [
      "Pitch (looking up) should be less than 45 degrees. It is 53.95633316040039 \n",
      "\n",
      "Image has Good contrast\n"
     ]
    }
   ],
   "source": [
    "print(image_check(photo))\n",
    "result = 'Good contrast' if not low_contrast_check (photo) else 'Low contrast'\n",
    "print(f'Image has {result}')\n"
   ]
  },
  {
   "cell_type": "code",
   "execution_count": 71,
   "id": "29f0c197",
   "metadata": {},
   "outputs": [
    {
     "data": {
      "image/jpeg": "[encoded data removed]",
      "text/plain": [
       "<IPython.core.display.Image object>"
      ]
     },
     "execution_count": 71,
     "metadata": {},
     "output_type": "execute_result"
    }
   ],
   "source": [
    "photo = path + 'obama-looking-down-high-pitch.jpeg'\n",
    "IImage(filename=photo) "
   ]
  },
  {
   "cell_type": "code",
   "execution_count": 72,
   "id": "e668c318",
   "metadata": {},
   "outputs": [
    {
     "name": "stdout",
     "output_type": "stream",
     "text": [
      "Face dimensions should be > 50x50 pixels. They are 28.3 x 33.5\n",
      "Pitch (looking down) should be less than 30 degrees. It is -40.7339973449707 \n",
      "\n",
      "Image has Good contrast\n"
     ]
    }
   ],
   "source": [
    "print(image_check(photo))\n",
    "result = 'Good contrast' if not low_contrast_check (photo) else 'Low contrast'\n",
    "print(f'Image has {result}')\n"
   ]
  },
  {
   "cell_type": "markdown",
   "id": "6e10e497",
   "metadata": {},
   "source": [
    "## Example of occlusions - Avoid sunglasses, masks, headbands, hat"
   ]
  },
  {
   "cell_type": "code",
   "execution_count": 73,
   "id": "62fdac0c",
   "metadata": {},
   "outputs": [
    {
     "data": {
      "image/jpeg": "[encoded data removed]",
      "text/plain": [
       "<IPython.core.display.Image object>"
      ]
     },
     "execution_count": 73,
     "metadata": {},
     "output_type": "execute_result"
    }
   ],
   "source": [
    "photo = path + 'bezos-sunglasses.jpeg'\n",
    "IImage(filename=photo)"
   ]
  },
  {
   "cell_type": "code",
   "execution_count": 74,
   "id": "c65a328f",
   "metadata": {},
   "outputs": [
    {
     "name": "stdout",
     "output_type": "stream",
     "text": [
      "remove sunglasses \n",
      "\n",
      "Image has Good contrast\n"
     ]
    }
   ],
   "source": [
    "print(image_check(photo))\n",
    "result = 'Good contrast' if not low_contrast_check (photo) else 'Low contrast'\n",
    "print(f'Image has {result}')\n"
   ]
  },
  {
   "cell_type": "code",
   "execution_count": 75,
   "id": "ea59809b",
   "metadata": {},
   "outputs": [
    {
     "data": {
      "image/jpeg": "[encoded data removed]",
      "text/plain": [
       "<IPython.core.display.Image object>"
      ]
     },
     "execution_count": 75,
     "metadata": {},
     "output_type": "execute_result"
    }
   ],
   "source": [
    "photo = path + 'bezos-hat.jpeg'\n",
    "IImage(filename=photo) "
   ]
  },
  {
   "cell_type": "code",
   "execution_count": 76,
   "id": "ade541c4",
   "metadata": {},
   "outputs": [
    {
     "name": "stdout",
     "output_type": "stream",
     "text": [
      "Mouth should be closed \n",
      "\n",
      "Image has Good contrast\n"
     ]
    }
   ],
   "source": [
    "print(image_check(photo))\n",
    "result = 'Good contrast' if not low_contrast_check (photo) else 'Low contrast'\n",
    "print(f'Image has {result}')\n"
   ]
  },
  {
   "cell_type": "markdown",
   "id": "fbeb9019",
   "metadata": {},
   "source": [
    "### Examples of low contrast images"
   ]
  },
  {
   "cell_type": "code",
   "execution_count": 77,
   "id": "0af748d9",
   "metadata": {},
   "outputs": [
    {
     "data": {
      "image/jpeg": "[encoded data removed]",
      "text/plain": [
       "<IPython.core.display.Image object>"
      ]
     },
     "execution_count": 77,
     "metadata": {},
     "output_type": "execute_result"
    }
   ],
   "source": [
    "photo = path + 'man-lowcontrast.jpeg'\n",
    "IImage(photo)"
   ]
  },
  {
   "cell_type": "code",
   "execution_count": 78,
   "id": "fb0c5af3",
   "metadata": {},
   "outputs": [
    {
     "name": "stdout",
     "output_type": "stream",
     "text": [
      "Image is compliant\n",
      "Image has Low contrast\n"
     ]
    }
   ],
   "source": [
    "print(image_check(photo))\n",
    "result = 'Good contrast' if not low_contrast_check (photo) else 'Low contrast'\n",
    "print(f'Image has {result}')\n",
    "\n"
   ]
  },
  {
   "cell_type": "code",
   "execution_count": 79,
   "id": "3fbfa15e",
   "metadata": {},
   "outputs": [
    {
     "data": {
      "image/jpeg": "[encoded data removed]",
      "text/plain": [
       "<IPython.core.display.Image object>"
      ]
     },
     "execution_count": 79,
     "metadata": {},
     "output_type": "execute_result"
    }
   ],
   "source": [
    "photo = path + 'man-darkcontrast.jpeg'\n",
    "IImage(photo)"
   ]
  },
  {
   "cell_type": "code",
   "execution_count": 80,
   "id": "e9b5111c",
   "metadata": {},
   "outputs": [
    {
     "name": "stdout",
     "output_type": "stream",
     "text": [
      "Image is compliant\n",
      "Image has Low contrast\n"
     ]
    }
   ],
   "source": [
    "print(image_check(photo))\n",
    "result = 'Good contrast' if not low_contrast_check (photo) else 'Low contrast'\n",
    "print(f'Image has {result}')\n"
   ]
  },
  {
   "cell_type": "code",
   "execution_count": null,
   "id": "afaae31d",
   "metadata": {},
   "outputs": [],
   "source": []
  },
  {
   "cell_type": "code",
   "execution_count": null,
   "id": "894be533",
   "metadata": {},
   "outputs": [],
   "source": []
  }
 ],
 "metadata": {
  "kernelspec": {
   "display_name": "conda_python3",
   "language": "python",
   "name": "conda_python3"
  },
  "language_info": {
   "codemirror_mode": {
    "name": "ipython",
    "version": 3
   },
   "file_extension": ".py",
   "mimetype": "text/x-python",
   "name": "python",
   "nbconvert_exporter": "python",
   "pygments_lexer": "ipython3",
   "version": "3.6.13"
  }
 },
 "nbformat": 4,
 "nbformat_minor": 5
}
